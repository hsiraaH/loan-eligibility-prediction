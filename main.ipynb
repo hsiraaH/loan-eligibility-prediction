{
 "cells": [
  {
   "cell_type": "markdown",
   "id": "latin-married",
   "metadata": {},
   "source": [
    "# Loan Eligibility Prediction System\n",
    "\n",
    "we are going to build a machine learning model which is going to decide whether a loan can be granted or not by predicting whether the loan requester can repay the loan or not. The model is going to decide this by looking at a majority of parameters."
   ]
  },
  {
   "cell_type": "markdown",
   "id": "assigned-marketplace",
   "metadata": {},
   "source": [
    "## Importing The Required Packages\n",
    "\n",
    "We will now import our required packages for building this system. They are :-\n",
    "\n",
    "1. NumPy\n",
    "2. Scikit-Learn\n",
    "3. Pandas\n",
    "4. Seaborn"
   ]
  },
  {
   "cell_type": "code",
   "execution_count": 1,
   "id": "lesser-sight",
   "metadata": {},
   "outputs": [],
   "source": [
    "import pandas as pd\n",
    "import numpy as np\n",
    "import seaborn as sns\n",
    "import matplotlib.pyplot as plt\n",
    "%matplotlib inline"
   ]
  },
  {
   "cell_type": "markdown",
   "id": "residential-afternoon",
   "metadata": {},
   "source": [
    "## Getting The Data\n",
    "\n",
    "We have got our required dataset from [Analytics Vidhya](https://www.analyticsvidhya.com/).\n",
    "\n",
    "The dataset contains the following features :-\n",
    "\n",
    "* Loan_ID - The ID number of the Loan application\n",
    "* Gender - The Gender of the applicant\n",
    "* Married - Whether the applicant is married or not\n",
    "* Dependents - How many is dependant on the applicant financially\n",
    "* Education  - What is the Highest Education Qualification of the Applicant\n",
    "* Self_Employed - Is the Applicant self-employed?\n",
    "* ApplicantIncome - What is the Applicant's income?\n",
    "* CoapplcantIncome - What is the Co-Applicant's income?\n",
    "* LoanAmount - What is the principal loan amount?\n",
    "* Loan_Amount_Term - What is the loan term?\n",
    "* Credit_History - The history of Applicant's credit\n",
    "* Property_Areas - Where are the Applicant's collateral property located?\n",
    "* Loan_Status - Should the loan be approved or not? (target feature)\n"
   ]
  },
  {
   "cell_type": "code",
   "execution_count": null,
   "id": "subsequent-engineering",
   "metadata": {},
   "outputs": [],
   "source": []
  }
 ],
 "metadata": {
  "kernelspec": {
   "display_name": "Python 3",
   "language": "python",
   "name": "python3"
  },
  "language_info": {
   "codemirror_mode": {
    "name": "ipython",
    "version": 3
   },
   "file_extension": ".py",
   "mimetype": "text/x-python",
   "name": "python",
   "nbconvert_exporter": "python",
   "pygments_lexer": "ipython3",
   "version": "3.9.2"
  }
 },
 "nbformat": 4,
 "nbformat_minor": 5
}
